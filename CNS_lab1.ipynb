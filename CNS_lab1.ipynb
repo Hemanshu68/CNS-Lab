{
  "nbformat": 4,
  "nbformat_minor": 0,
  "metadata": {
    "colab": {
      "name": "CNS-lab1.ipynb",
      "provenance": [],
      "collapsed_sections": []
    },
    "kernelspec": {
      "name": "python3",
      "display_name": "Python 3"
    },
    "language_info": {
      "name": "python"
    }
  },
  "cells": [
    {
      "cell_type": "markdown",
      "source": [
        "```\n",
        "CNS Lab Assignment-1\n",
        "Group Members:\n",
        "    Ruchika Pandharikar BT19CSE009\n",
        "    Aditi Vishwakarma BT19CSE031\n",
        "    Neha Kalbande BT19CSE047\n",
        "    Hemanshu Chaudhari BT19CSE056\n",
        "```"
      ],
      "metadata": {
        "id": "RTvMLnHn18S1"
      }
    },
    {
      "cell_type": "markdown",
      "source": [
        "Q2. Euclidean Algorithm for GCD"
      ],
      "metadata": {
        "id": "Si_hI-p-op--"
      }
    },
    {
      "cell_type": "code",
      "source": [
        "def EuclideanGCD(a, b): \n",
        "    if a == 0 :\n",
        "        return b \n",
        "    \n",
        "    return EuclideanGCD(b%a, a)"
      ],
      "metadata": {
        "id": "AfRhkd7mtI_t"
      },
      "execution_count": 11,
      "outputs": []
    },
    {
      "cell_type": "code",
      "source": [
        "EuclideanGCD(35,15)"
      ],
      "metadata": {
        "colab": {
          "base_uri": "https://localhost:8080/",
          "height": 0
        },
        "id": "Gd55GEI9tXME",
        "outputId": "e52bfcfc-d202-4f98-ab42-866b5a72cf63"
      },
      "execution_count": 12,
      "outputs": [
        {
          "output_type": "execute_result",
          "data": {
            "text/plain": [
              "5"
            ]
          },
          "metadata": {},
          "execution_count": 12
        }
      ]
    },
    {
      "cell_type": "markdown",
      "source": [
        "Q 3. Extended Euclidean Algorithm"
      ],
      "metadata": {
        "id": "gfE3FbXMsFts"
      }
    },
    {
      "cell_type": "code",
      "source": [
        "def ExtendedGCD(a, b): \n",
        "\n",
        "    # Base Case \n",
        "    if a == 0 :  \n",
        "        return b, 0, 1\n",
        "           \n",
        "    gcd, x1, y1 = ExtendedGCD(b%a, a) \n",
        "   \n",
        "    # Update x and y using results of recursive \n",
        "    # call \n",
        "    s = y1 - (b//a) * x1 \n",
        "    t = x1 \n",
        "   \n",
        "    return gcd, s, t"
      ],
      "metadata": {
        "id": "UhA5OG9mtbtc"
      },
      "execution_count": 13,
      "outputs": []
    },
    {
      "cell_type": "code",
      "source": [
        "ExtendedGCD(35,15)"
      ],
      "metadata": {
        "colab": {
          "base_uri": "https://localhost:8080/",
          "height": 0
        },
        "id": "X2ZdhKIRtlLV",
        "outputId": "6b31c2bc-da44-4e67-dfcb-dd05e943a45a"
      },
      "execution_count": 14,
      "outputs": [
        {
          "output_type": "execute_result",
          "data": {
            "text/plain": [
              "(5, 1, -2)"
            ]
          },
          "metadata": {},
          "execution_count": 14
        }
      ]
    },
    {
      "cell_type": "markdown",
      "source": [
        "Q 4.Additive and Multiplicative Inverse pairs of Zn"
      ],
      "metadata": {
        "id": "MVhtlm9eswY1"
      }
    },
    {
      "cell_type": "code",
      "source": [
        "def AdditiveInverse(n):\n",
        "    IA = []\n",
        "    for i in range(1,n // 2 + 1):\n",
        "        IA.append((i,n-i))\n",
        "    print(IA)"
      ],
      "metadata": {
        "id": "kaSk1yfmtxDO"
      },
      "execution_count": 17,
      "outputs": []
    },
    {
      "cell_type": "code",
      "source": [
        "AdditiveInverse(10)"
      ],
      "metadata": {
        "colab": {
          "base_uri": "https://localhost:8080/",
          "height": 0
        },
        "id": "PVNf1gWNxB46",
        "outputId": "80c19c3a-8067-4e5b-a742-8021bd3edd4f"
      },
      "execution_count": 19,
      "outputs": [
        {
          "output_type": "stream",
          "name": "stdout",
          "text": [
            "[(1, 9), (2, 8), (3, 7), (4, 6), (5, 5)]\n"
          ]
        }
      ]
    },
    {
      "cell_type": "code",
      "source": [
        "def MultiplicativeInverse(n):\n",
        "    MA=[]\n",
        "    for i in range(1,n):\n",
        "        for j in range (i,n):\n",
        "            if i%n * j%n == 1:\n",
        "                MA.append((i,j))\n",
        "    print(MA)"
      ],
      "metadata": {
        "id": "ntzlyEm6xq3V"
      },
      "execution_count": 20,
      "outputs": []
    },
    {
      "cell_type": "code",
      "source": [
        "MultiplicativeInverse(11)"
      ],
      "metadata": {
        "colab": {
          "base_uri": "https://localhost:8080/",
          "height": 0
        },
        "id": "aR_vOAqx0It8",
        "outputId": "1707abb4-c195-48fb-c66d-f85ac00fbf00"
      },
      "execution_count": 22,
      "outputs": [
        {
          "output_type": "stream",
          "name": "stdout",
          "text": [
            "[(1, 1), (2, 6), (3, 4), (5, 9), (7, 8), (10, 10)]\n"
          ]
        }
      ]
    }
  ]
}